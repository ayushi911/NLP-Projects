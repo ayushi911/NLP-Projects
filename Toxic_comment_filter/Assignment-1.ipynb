{
  "nbformat": 4,
  "nbformat_minor": 0,
  "metadata": {
    "colab": {
      "name": "NLP.ipynb",
      "provenance": [],
      "collapsed_sections": [],
      "toc_visible": true
    },
    "kernelspec": {
      "display_name": "Python 3",
      "name": "python3"
    }
  },
  "cells": [
    {
      "cell_type": "markdown",
      "metadata": {
        "id": "G7j0rYns_aak"
      },
      "source": [
        "#Getting data from drive"
      ]
    },
    {
      "cell_type": "code",
      "metadata": {
        "colab": {
          "base_uri": "https://localhost:8080/"
        },
        "id": "gidSOiTjwpUv",
        "outputId": "0212c68f-a218-44dc-dd22-52fbb55aa841"
      },
      "source": [
        "from google.colab import drive\n",
        "drive.mount('/content/drive')"
      ],
      "execution_count": null,
      "outputs": [
        {
          "output_type": "stream",
          "text": [
            "Drive already mounted at /content/drive; to attempt to forcibly remount, call drive.mount(\"/content/drive\", force_remount=True).\n"
          ],
          "name": "stdout"
        }
      ]
    },
    {
      "cell_type": "code",
      "metadata": {
        "id": "D1xYA6Ee0LtT"
      },
      "source": [
        "import pandas as pd\n",
        "df = pd.read_csv('/content/drive/MyDrive/NLP_Lab/raw_data/train.csv')"
      ],
      "execution_count": null,
      "outputs": []
    },
    {
      "cell_type": "code",
      "metadata": {
        "id": "eeG3p1W59vbL",
        "colab": {
          "base_uri": "https://localhost:8080/",
          "height": 204
        },
        "outputId": "f7c11cae-fc97-4d17-daf3-eaf56132b8e8"
      },
      "source": [
        "df.head()"
      ],
      "execution_count": null,
      "outputs": [
        {
          "output_type": "execute_result",
          "data": {
            "text/html": [
              "<div>\n",
              "<style scoped>\n",
              "    .dataframe tbody tr th:only-of-type {\n",
              "        vertical-align: middle;\n",
              "    }\n",
              "\n",
              "    .dataframe tbody tr th {\n",
              "        vertical-align: top;\n",
              "    }\n",
              "\n",
              "    .dataframe thead th {\n",
              "        text-align: right;\n",
              "    }\n",
              "</style>\n",
              "<table border=\"1\" class=\"dataframe\">\n",
              "  <thead>\n",
              "    <tr style=\"text-align: right;\">\n",
              "      <th></th>\n",
              "      <th>id</th>\n",
              "      <th>comment_text</th>\n",
              "      <th>toxic</th>\n",
              "      <th>severe_toxic</th>\n",
              "      <th>obscene</th>\n",
              "      <th>threat</th>\n",
              "      <th>insult</th>\n",
              "      <th>identity_hate</th>\n",
              "    </tr>\n",
              "  </thead>\n",
              "  <tbody>\n",
              "    <tr>\n",
              "      <th>0</th>\n",
              "      <td>0000997932d777bf</td>\n",
              "      <td>Explanation\\nWhy the edits made under my usern...</td>\n",
              "      <td>0</td>\n",
              "      <td>0</td>\n",
              "      <td>0</td>\n",
              "      <td>0</td>\n",
              "      <td>0</td>\n",
              "      <td>0</td>\n",
              "    </tr>\n",
              "    <tr>\n",
              "      <th>1</th>\n",
              "      <td>000103f0d9cfb60f</td>\n",
              "      <td>D'aww! He matches this background colour I'm s...</td>\n",
              "      <td>0</td>\n",
              "      <td>0</td>\n",
              "      <td>0</td>\n",
              "      <td>0</td>\n",
              "      <td>0</td>\n",
              "      <td>0</td>\n",
              "    </tr>\n",
              "    <tr>\n",
              "      <th>2</th>\n",
              "      <td>000113f07ec002fd</td>\n",
              "      <td>Hey man, I'm really not trying to edit war. It...</td>\n",
              "      <td>0</td>\n",
              "      <td>0</td>\n",
              "      <td>0</td>\n",
              "      <td>0</td>\n",
              "      <td>0</td>\n",
              "      <td>0</td>\n",
              "    </tr>\n",
              "    <tr>\n",
              "      <th>3</th>\n",
              "      <td>0001b41b1c6bb37e</td>\n",
              "      <td>\"\\nMore\\nI can't make any real suggestions on ...</td>\n",
              "      <td>0</td>\n",
              "      <td>0</td>\n",
              "      <td>0</td>\n",
              "      <td>0</td>\n",
              "      <td>0</td>\n",
              "      <td>0</td>\n",
              "    </tr>\n",
              "    <tr>\n",
              "      <th>4</th>\n",
              "      <td>0001d958c54c6e35</td>\n",
              "      <td>You, sir, are my hero. Any chance you remember...</td>\n",
              "      <td>0</td>\n",
              "      <td>0</td>\n",
              "      <td>0</td>\n",
              "      <td>0</td>\n",
              "      <td>0</td>\n",
              "      <td>0</td>\n",
              "    </tr>\n",
              "  </tbody>\n",
              "</table>\n",
              "</div>"
            ],
            "text/plain": [
              "                 id  ... identity_hate\n",
              "0  0000997932d777bf  ...             0\n",
              "1  000103f0d9cfb60f  ...             0\n",
              "2  000113f07ec002fd  ...             0\n",
              "3  0001b41b1c6bb37e  ...             0\n",
              "4  0001d958c54c6e35  ...             0\n",
              "\n",
              "[5 rows x 8 columns]"
            ]
          },
          "metadata": {
            "tags": []
          },
          "execution_count": 139
        }
      ]
    },
    {
      "cell_type": "markdown",
      "metadata": {
        "id": "xbUQx-Ay_oak"
      },
      "source": [
        "# Seperating the comments from labels"
      ]
    },
    {
      "cell_type": "code",
      "metadata": {
        "id": "S0fnrUeG-xl2",
        "colab": {
          "base_uri": "https://localhost:8080/"
        },
        "outputId": "ef7ed07f-3173-4116-a518-1f1b9f4a2c19"
      },
      "source": [
        "comment = df['comment_text']\n",
        "print(comment.head())"
      ],
      "execution_count": null,
      "outputs": [
        {
          "output_type": "stream",
          "text": [
            "0    Explanation\\nWhy the edits made under my usern...\n",
            "1    D'aww! He matches this background colour I'm s...\n",
            "2    Hey man, I'm really not trying to edit war. It...\n",
            "3    \"\\nMore\\nI can't make any real suggestions on ...\n",
            "4    You, sir, are my hero. Any chance you remember...\n",
            "Name: comment_text, dtype: object\n"
          ],
          "name": "stdout"
        }
      ]
    },
    {
      "cell_type": "code",
      "metadata": {
        "id": "FvdqiMxr_G3y",
        "colab": {
          "base_uri": "https://localhost:8080/"
        },
        "outputId": "ab0549e2-2404-41d1-f504-f1259b16e7cd"
      },
      "source": [
        "label = df[['toxic', 'severe_toxic' , 'obscene' , 'threat' , 'insult' , 'identity_hate']]\n",
        "print(label.head())"
      ],
      "execution_count": null,
      "outputs": [
        {
          "output_type": "stream",
          "text": [
            "   toxic  severe_toxic  obscene  threat  insult  identity_hate\n",
            "0      0             0        0       0       0              0\n",
            "1      0             0        0       0       0              0\n",
            "2      0             0        0       0       0              0\n",
            "3      0             0        0       0       0              0\n",
            "4      0             0        0       0       0              0\n"
          ],
          "name": "stdout"
        }
      ]
    },
    {
      "cell_type": "markdown",
      "metadata": {
        "id": "qR7bWDVlAGuH"
      },
      "source": [
        "# Lower case the data and remove new lines and \"#\" \"@\""
      ]
    },
    {
      "cell_type": "code",
      "metadata": {
        "id": "zBlbb9FsALKO",
        "colab": {
          "base_uri": "https://localhost:8080/"
        },
        "outputId": "adcaf25f-7c33-4a9b-d9bb-bc423f6e3cfd"
      },
      "source": [
        "import nltk                               \n",
        "nltk.download('stopwords')"
      ],
      "execution_count": null,
      "outputs": [
        {
          "output_type": "stream",
          "text": [
            "[nltk_data] Downloading package stopwords to /root/nltk_data...\n",
            "[nltk_data]   Package stopwords is already up-to-date!\n"
          ],
          "name": "stdout"
        },
        {
          "output_type": "execute_result",
          "data": {
            "text/plain": [
              "True"
            ]
          },
          "metadata": {
            "tags": []
          },
          "execution_count": 142
        }
      ]
    },
    {
      "cell_type": "code",
      "metadata": {
        "id": "KfbsRy1YCHsB"
      },
      "source": [
        "import re                                  # library for regular expression operations\n",
        "import string                              # for string operations\n",
        "from nltk.corpus import stopwords "
      ],
      "execution_count": null,
      "outputs": []
    },
    {
      "cell_type": "code",
      "metadata": {
        "id": "u4vfclYjCP_Q"
      },
      "source": [
        "comment = comment.apply(lambda x: x.lower())"
      ],
      "execution_count": null,
      "outputs": []
    },
    {
      "cell_type": "code",
      "metadata": {
        "id": "b3FxIdBwCa0J",
        "colab": {
          "base_uri": "https://localhost:8080/"
        },
        "outputId": "f676d34e-2b69-4737-daff-984c1f44d32e"
      },
      "source": [
        "comment.head()"
      ],
      "execution_count": null,
      "outputs": [
        {
          "output_type": "execute_result",
          "data": {
            "text/plain": [
              "0    explanation\\nwhy the edits made under my usern...\n",
              "1    d'aww! he matches this background colour i'm s...\n",
              "2    hey man, i'm really not trying to edit war. it...\n",
              "3    \"\\nmore\\ni can't make any real suggestions on ...\n",
              "4    you, sir, are my hero. any chance you remember...\n",
              "Name: comment_text, dtype: object"
            ]
          },
          "metadata": {
            "tags": []
          },
          "execution_count": 145
        }
      ]
    },
    {
      "cell_type": "code",
      "metadata": {
        "id": "hiiLZb5rEUZp"
      },
      "source": [
        "comment = comment.apply(lambda x: x.replace('\\n', ' '))\n",
        "comment = comment.apply(lambda x: x.replace('#', ' '))\n",
        "comment = comment.apply(lambda x: x.replace('@', ' '))"
      ],
      "execution_count": null,
      "outputs": []
    },
    {
      "cell_type": "code",
      "metadata": {
        "id": "Zpdghr9wEcBz",
        "colab": {
          "base_uri": "https://localhost:8080/"
        },
        "outputId": "c0e949c7-297d-4b84-fefc-b3fb99bcbc27"
      },
      "source": [
        "comment.head()"
      ],
      "execution_count": null,
      "outputs": [
        {
          "output_type": "execute_result",
          "data": {
            "text/plain": [
              "0    explanation why the edits made under my userna...\n",
              "1    d'aww! he matches this background colour i'm s...\n",
              "2    hey man, i'm really not trying to edit war. it...\n",
              "3    \" more i can't make any real suggestions on im...\n",
              "4    you, sir, are my hero. any chance you remember...\n",
              "Name: comment_text, dtype: object"
            ]
          },
          "metadata": {
            "tags": []
          },
          "execution_count": 147
        }
      ]
    },
    {
      "cell_type": "markdown",
      "metadata": {
        "id": "w_99EaPffC3y"
      },
      "source": [
        "# Slang Conversion"
      ]
    },
    {
      "cell_type": "code",
      "metadata": {
        "id": "NWAADRiffB3P"
      },
      "source": [
        "#for slang conversion\n",
        "CONTRACTION_MAP = {\n",
        "\"ain't\": \"is not\",\n",
        "\"aren't\": \"are not\",\n",
        "\"can't\": \"cannot\",\n",
        "\"can't've\": \"cannot have\",\n",
        "\"'cause\": \"because\",\n",
        "\"could've\": \"could have\",\n",
        "\"couldn't\": \"could not\",\n",
        "\"couldn't've\": \"could not have\",\n",
        "\"didn't\": \"did not\",\n",
        "\"doesn't\": \"does not\",\n",
        "\"don't\": \"do not\",\n",
        "\"hadn't\": \"had not\",\n",
        "\"hadn't've\": \"had not have\",\n",
        "\"hasn't\": \"has not\",\n",
        "\"haven't\": \"have not\",\n",
        "\"he'd\": \"he would\",\n",
        "\"he'd've\": \"he would have\",\n",
        "\"he'll\": \"he will\",\n",
        "\"he'll've\": \"he he will have\",\n",
        "\"he's\": \"he is\",\n",
        "\"how'd\": \"how did\",\n",
        "\"how'd'y\": \"how do you\",\n",
        "\"how'll\": \"how will\",\n",
        "\"how's\": \"how is\",\n",
        "\"I'd\": \"I would\",\n",
        "\"I'd've\": \"I would have\",\n",
        "\"I'll\": \"I will\",\n",
        "\"I'll've\": \"I will have\",\n",
        "\"I'm\": \"I am\",\n",
        "\"I've\": \"I have\",\n",
        "\"i'd\": \"i would\",\n",
        "\"i'd've\": \"i would have\",\n",
        "\"i'll\": \"i will\",\n",
        "\"i'll've\": \"i will have\",\n",
        "\"i'm\": \"i am\",\n",
        "\"i've\": \"i have\",\n",
        "\"isn't\": \"is not\",\n",
        "\"it'd\": \"it would\",\n",
        "\"it'd've\": \"it would have\",\n",
        "\"it'll\": \"it will\",\n",
        "\"it'll've\": \"it will have\",\n",
        "\"it's\": \"it is\",\n",
        "\"let's\": \"let us\",\n",
        "\"ma'am\": \"madam\",\n",
        "\"mayn't\": \"may not\",\n",
        "\"might've\": \"might have\",\n",
        "\"mightn't\": \"might not\",\n",
        "\"mightn't've\": \"might not have\",\n",
        "\"must've\": \"must have\",\n",
        "\"mustn't\": \"must not\",\n",
        "\"mustn't've\": \"must not have\",\n",
        "\"needn't\": \"need not\",\n",
        "\"needn't've\": \"need not have\",\n",
        "\"o'clock\": \"of the clock\",\n",
        "\"oughtn't\": \"ought not\",\n",
        "\"oughtn't've\": \"ought not have\",\n",
        "\"shan't\": \"shall not\",\n",
        "\"sha'n't\": \"shall not\",\n",
        "\"shan't've\": \"shall not have\",\n",
        "\"she'd\": \"she would\",\n",
        "\"she'd've\": \"she would have\",\n",
        "\"she'll\": \"she will\",\n",
        "\"she'll've\": \"she will have\",\n",
        "\"she's\": \"she is\",\n",
        "\"should've\": \"should have\",\n",
        "\"shouldn't\": \"should not\",\n",
        "\"shouldn't've\": \"should not have\",\n",
        "\"so've\": \"so have\",\n",
        "\"so's\": \"so as\",\n",
        "\"that'd\": \"that would\",\n",
        "\"that'd've\": \"that would have\",\n",
        "\"that's\": \"that is\",\n",
        "\"there'd\": \"there would\",\n",
        "\"there'd've\": \"there would have\",\n",
        "\"there's\": \"there is\",\n",
        "\"they'd\": \"they would\",\n",
        "\"they'd've\": \"they would have\",\n",
        "\"they'll\": \"they will\",\n",
        "\"they'll've\": \"they will have\",\n",
        "\"they're\": \"they are\",\n",
        "\"they've\": \"they have\",\n",
        "\"to've\": \"to have\",\n",
        "\"wasn't\": \"was not\",\n",
        "\"we'd\": \"we would\",\n",
        "\"we'd've\": \"we would have\",\n",
        "\"we'll\": \"we will\",\n",
        "\"we'll've\": \"we will have\",\n",
        "\"we're\": \"we are\",\n",
        "\"we've\": \"we have\",\n",
        "\"weren't\": \"were not\",\n",
        "\"what'll\": \"what will\",\n",
        "\"what'll've\": \"what will have\",\n",
        "\"what're\": \"what are\",\n",
        "\"what's\": \"what is\",\n",
        "\"what've\": \"what have\",\n",
        "\"when's\": \"when is\",\n",
        "\"when've\": \"when have\",\n",
        "\"where'd\": \"where did\",\n",
        "\"where's\": \"where is\",\n",
        "\"where've\": \"where have\",\n",
        "\"who'll\": \"who will\",\n",
        "\"who'll've\": \"who will have\",\n",
        "\"who's\": \"who is\",\n",
        "\"who've\": \"who have\",\n",
        "\"why's\": \"why is\",\n",
        "\"why've\": \"why have\",\n",
        "\"will've\": \"will have\",\n",
        "\"won't\": \"will not\",\n",
        "\"won't've\": \"will not have\",\n",
        "\"would've\": \"would have\",\n",
        "\"wouldn't\": \"would not\",\n",
        "\"wouldn't've\": \"would not have\",\n",
        "\"y'all\": \"you all\",\n",
        "\"y'all'd\": \"you all would\",\n",
        "\"y'all'd've\": \"you all would have\",\n",
        "\"y'all're\": \"you all are\",\n",
        "\"y'all've\": \"you all have\",\n",
        "\"you'd\": \"you would\",\n",
        "\"you'd've\": \"you would have\",\n",
        "\"you'll\": \"you will\",\n",
        "\"you'll've\": \"you will have\",\n",
        "\"you're\": \"you are\",\n",
        "\"you've\": \"you have\",}"
      ],
      "execution_count": null,
      "outputs": []
    },
    {
      "cell_type": "code",
      "metadata": {
        "id": "3XgFpMADwUtx"
      },
      "source": [
        "SLANG={\"AFAIK\":\"As Far As I Know\",\n",
        "\"AFK\":\"Away From Keyboard\",\n",
        "\"ASAP\":\"As Soon As Possible\",\n",
        "\"ATK\":\"At The Keyboard\",\n",
        "\"ATM\":\"At The Moment\",\n",
        "\"A3\":\"Anytime, Anywhere, Anyplace\",\n",
        "\"BAK\":\"Back At Keyboard\",\n",
        "\"BBL\":\"Be Back Later\",\n",
        "\"BBS\":\"Be Back Soon\",\n",
        "\"BFN\":\"Bye For Now\",\n",
        "\"B4N\":\"Bye For Now\",\n",
        "\"BRB\":\"Be Right Back\",\n",
        "\"BRT\":\"Be Right There\",\n",
        "\"BTW\":\"By The Way\",\n",
        "\"B4\":\"Before\",\n",
        "\"B4N\":\"Bye For Now\",\n",
        "\"CU\":\"See You\",\n",
        "\"CUL8R\":\"See You Later\",\n",
        "\"CYA\":\"See You\",\n",
        "\"FAQ\":\"Frequently Asked Questions\",\n",
        "\"FC\":\"Fingers Crossed\",\n",
        "\"FWIW\":\"For What It's Worth\",\n",
        "\"FYI\":\"For Your Information\",\n",
        "\"GAL\":\"Get A Life\",\n",
        "\"GG\":\"Good Game\",\n",
        "\"GN\":\"Good Night\",\n",
        "\"GMTA\":\"Great Minds Think Alike\",\n",
        "\"GR8\":\"Great!\",\n",
        "\"G9\":\"Genius\",\n",
        "\"IC\":\"I See\",\n",
        "\"ICQ\":\"I Seek you (also a chat program)\",\n",
        "\"ILU\": \"I Love You\",\n",
        "\"IMHO\":\"In My Honest/Humble Opinion\",\n",
        "\"IMO\":\"In My Opinion\",\n",
        "\"IOW\":\"In Other Words\",\n",
        "\"IRL\":\"In Real Life\",\n",
        "\"KISS\":\"Keep It Simple, Stupid\",\n",
        "\"LDR\":\"Long Distance Relationship\",\n",
        "\"LMAO\":\"Laugh My A.. Off\",\n",
        "\"LOL\":\"Laughing Out Loud\",\n",
        "\"LTNS\":\"Long Time No See\",\n",
        "\"L8R\":\"Later\",\n",
        "\"MTE\":\"My Thoughts Exactly\",\n",
        "\"M8\":\"Mate\",\n",
        "\"NRN\":\"No Reply Necessary\",\n",
        "\"OIC\":\"Oh I See\",\n",
        "\"PITA\":\"Pain In The A..\",\n",
        "\"PRT\":\"Party\",\n",
        "\"PRW\":\"Parents Are Watching\",\n",
        "\"QPSA?\":\"Que Pasa?\",\n",
        "\"ROFL\":\"Rolling On The Floor Laughing\",\n",
        "\"ROFLOL\":\"Rolling On The Floor Laughing Out Loud\",\n",
        "\"ROTFLMAO\":\"Rolling On The Floor Laughing My A.. Off\",\n",
        "\"SK8\":\"Skate\",\n",
        "\"STATS\":\"Your sex and age\",\n",
        "\"ASL\":\"Age, Sex, Location\",\n",
        "\"THX\":\"Thank You\",\n",
        "\"TTFN\":\"Ta-Ta For Now!\",\n",
        "\"TTYL\":\"Talk To You Later\",\n",
        "\"U\":\"You\",\n",
        "\"U2\":\"You Too\",\n",
        "\"U4E\":\"Yours For Ever\",\n",
        "\"WB\":\"Welcome Back\",\n",
        "\"WTF\":\"What The F…\",\n",
        "\"WTG\":\"Way To Go!\",\n",
        "\"WUF\":\"Where Are You From?\",\n",
        "\"W8\":\"Wait…\",\n",
        "\"7K\":\"Sick:-D Laugher\"}"
      ],
      "execution_count": null,
      "outputs": []
    },
    {
      "cell_type": "code",
      "metadata": {
        "id": "KIoV2HkysZFG"
      },
      "source": [
        "def slangs(x):\n",
        "  y=x.split()\n",
        "  for i in range(len(y)):\n",
        "    if y[i] in SLANG:\n",
        "      y[i]=SLANG[y[i]]\n",
        "    if y[i] in CONTRACTION_MAP:\n",
        "      y[i]=CONTRACTION_MAP[y[i]]  \n",
        "  return ' '.join(y)    "
      ],
      "execution_count": null,
      "outputs": []
    },
    {
      "cell_type": "code",
      "metadata": {
        "id": "nKHPyX7XfeN2"
      },
      "source": [
        "comment=comment.apply(lambda x: slangs(x))"
      ],
      "execution_count": null,
      "outputs": []
    },
    {
      "cell_type": "code",
      "metadata": {
        "id": "eDt8Yjzmfijf",
        "colab": {
          "base_uri": "https://localhost:8080/"
        },
        "outputId": "e65fe9cb-75ea-4924-acf2-22b088af2cca"
      },
      "source": [
        "comment.head()"
      ],
      "execution_count": null,
      "outputs": [
        {
          "output_type": "execute_result",
          "data": {
            "text/plain": [
              "0    explanation why the edits made under my userna...\n",
              "1    d'aww! he matches this background colour i am ...\n",
              "2    hey man, i am really not trying to edit war. i...\n",
              "3    \" more i cannot make any real suggestions on i...\n",
              "4    you, sir, are my hero. any chance you remember...\n",
              "Name: comment_text, dtype: object"
            ]
          },
          "metadata": {
            "tags": []
          },
          "execution_count": 168
        }
      ]
    },
    {
      "cell_type": "markdown",
      "metadata": {
        "id": "spTka0ZpfnHr"
      },
      "source": [
        "# Spell check"
      ]
    },
    {
      "cell_type": "code",
      "metadata": {
        "id": "MShJ1yJSfre4"
      },
      "source": [
        "!pip install spellchecker\n",
        "!pip install pyspellchecker"
      ],
      "execution_count": null,
      "outputs": []
    },
    {
      "cell_type": "code",
      "metadata": {
        "id": "pWhLwU43iKfq"
      },
      "source": [
        "from spellchecker import SpellChecker"
      ],
      "execution_count": null,
      "outputs": []
    },
    {
      "cell_type": "code",
      "metadata": {
        "id": "rJ3LmpV1h6p9"
      },
      "source": [
        "def spell_checker(x):\n",
        "  spell=SpellChecker()\n",
        "  correct=[]\n",
        "  misspelled=spell.unknown(x.split())\n",
        "  for word in x.split():\n",
        "    if word in misspelled:\n",
        "      correct.append(spell.correction(word))\n",
        "    else:\n",
        "      correct.append(word)\n",
        "  return ' '.join(correct)    "
      ],
      "execution_count": null,
      "outputs": []
    },
    {
      "cell_type": "code",
      "metadata": {
        "id": "izI9onAQiBD-"
      },
      "source": [
        "comment=comment.apply(lambda x: spell_checker(x))"
      ],
      "execution_count": null,
      "outputs": []
    },
    {
      "cell_type": "code",
      "metadata": {
        "id": "YqKIHLh4iDAZ"
      },
      "source": [
        "comment.head()"
      ],
      "execution_count": null,
      "outputs": []
    },
    {
      "cell_type": "markdown",
      "metadata": {
        "id": "V408VQxAaLaR"
      },
      "source": [
        "#Remove punctutation symbols"
      ]
    },
    {
      "cell_type": "code",
      "metadata": {
        "id": "0rzmnMxhxJOj"
      },
      "source": [
        "import nltk.tokenize\n",
        "nltk.download('punkt')"
      ],
      "execution_count": null,
      "outputs": []
    },
    {
      "cell_type": "code",
      "metadata": {
        "id": "NNWMuVk6xMam"
      },
      "source": [
        "from nltk.tokenize import sent_tokenize,word_tokenize"
      ],
      "execution_count": null,
      "outputs": []
    },
    {
      "cell_type": "code",
      "metadata": {
        "id": "IiYaVufvaPGq"
      },
      "source": [
        "def remove_punct(x):\n",
        "  exclude = set(string.punctuation)\n",
        "  x=list(x)\n",
        "  for a in range(len(x)):\n",
        "    if x[a] in exclude:\n",
        "        x[a]=\" \"\n",
        "  x=\"\".join(x)\n",
        "  return x"
      ],
      "execution_count": null,
      "outputs": []
    },
    {
      "cell_type": "code",
      "metadata": {
        "id": "BLfG9KG9aUvT"
      },
      "source": [
        "comment=comment.apply(lambda x: remove_punct(x))"
      ],
      "execution_count": null,
      "outputs": []
    },
    {
      "cell_type": "code",
      "metadata": {
        "id": "NWTBFvgtaVgZ"
      },
      "source": [
        "comment.head()"
      ],
      "execution_count": null,
      "outputs": []
    },
    {
      "cell_type": "markdown",
      "metadata": {
        "id": "xTi2kl-3UIVm"
      },
      "source": [
        "# Remove stop words"
      ]
    },
    {
      "cell_type": "code",
      "metadata": {
        "id": "JDEkgaT2ReqN"
      },
      "source": [
        "def remove_stopwords(x):\n",
        "  x=word_tokenize(x)\n",
        "  stopwords_all = stopwords.words('english')\n",
        "  x = \" \".join(i for i in x if not(i in stopwords_all))\n",
        "  return x\n"
      ],
      "execution_count": null,
      "outputs": []
    },
    {
      "cell_type": "code",
      "metadata": {
        "id": "pwz3IPxz394Q"
      },
      "source": [
        "comment=comment.apply(remove_stopwords)"
      ],
      "execution_count": null,
      "outputs": []
    },
    {
      "cell_type": "code",
      "metadata": {
        "id": "Q8tyxB24QpO_"
      },
      "source": [
        "comment.head(10)"
      ],
      "execution_count": null,
      "outputs": []
    },
    {
      "cell_type": "markdown",
      "metadata": {
        "id": "u1cyMj_lWKYF"
      },
      "source": [
        "# Lematization"
      ]
    },
    {
      "cell_type": "code",
      "metadata": {
        "id": "dSqYyV2c6hQ4"
      },
      "source": [
        "nltk.download('wordnet')"
      ],
      "execution_count": null,
      "outputs": []
    },
    {
      "cell_type": "code",
      "metadata": {
        "id": "0ZRAogAN4SIc"
      },
      "source": [
        "from nltk.stem import WordNetLemmatizer"
      ],
      "execution_count": null,
      "outputs": []
    },
    {
      "cell_type": "code",
      "metadata": {
        "id": "VSLYofga3rTN"
      },
      "source": [
        "def lematization(x):\n",
        "  x=word_tokenize(x)\n",
        "  lemmatizer = WordNetLemmatizer()\n",
        "  for w in range(len(x)):\n",
        "    x[w]=lemmatizer.lemmatize(x[w])\n",
        "  x=\" \".join(x)\n",
        "  return x\n"
      ],
      "execution_count": null,
      "outputs": []
    },
    {
      "cell_type": "code",
      "metadata": {
        "id": "WXPVXj0iWtW7"
      },
      "source": [
        "comment=comment.apply(lematization)"
      ],
      "execution_count": null,
      "outputs": []
    },
    {
      "cell_type": "code",
      "metadata": {
        "id": "SPocQE0UWvr1"
      },
      "source": [
        "comment.head(10)"
      ],
      "execution_count": null,
      "outputs": []
    },
    {
      "cell_type": "markdown",
      "metadata": {
        "id": "GhZT5SZ97tGV"
      },
      "source": [
        "# Stemming"
      ]
    },
    {
      "cell_type": "code",
      "metadata": {
        "id": "H5LaIAlh4uzW"
      },
      "source": [
        "from nltk.stem.snowball import SnowballStemmer\n"
      ],
      "execution_count": null,
      "outputs": []
    },
    {
      "cell_type": "code",
      "metadata": {
        "id": "o34lLPRq_zto"
      },
      "source": [
        "def stemmer(x):\n",
        "  stemmer = SnowballStemmer(\"english\")\n",
        "  x=word_tokenize(x) \n",
        "  x=\" \".join(stemmer.stem(i) for i in x)\n",
        "  return x  "
      ],
      "execution_count": null,
      "outputs": []
    },
    {
      "cell_type": "code",
      "metadata": {
        "id": "cB9sSu6AAgut"
      },
      "source": [
        "comment=comment.apply(stemmer)"
      ],
      "execution_count": null,
      "outputs": []
    },
    {
      "cell_type": "code",
      "metadata": {
        "id": "ZJikhBAB-_gM"
      },
      "source": [
        "comment.head()"
      ],
      "execution_count": null,
      "outputs": []
    },
    {
      "cell_type": "markdown",
      "metadata": {
        "id": "ShBmQpsYDXtt"
      },
      "source": [
        "# TF-IDF Matrix"
      ]
    },
    {
      "cell_type": "code",
      "metadata": {
        "id": "FK-3cS2OJ95B"
      },
      "source": [
        "import math"
      ],
      "execution_count": null,
      "outputs": []
    },
    {
      "cell_type": "code",
      "metadata": {
        "id": "SjZALVS8J829"
      },
      "source": [
        "def term_feq(w,i,comment):\n",
        "  x=(comment.iloc[i]).split()\n",
        "  count=0\n",
        "  for a in x:\n",
        "    if (a==w):\n",
        "      count=count+1\n",
        "  return count"
      ],
      "execution_count": null,
      "outputs": []
    },
    {
      "cell_type": "code",
      "metadata": {
        "id": "wQoDdTjW45db"
      },
      "source": [
        "def idf(w,df):\n",
        "  count=0\n",
        "  for i in range(len(df)):\n",
        "    x=(df.iloc[i]).split()\n",
        "    if (w in x):\n",
        "      count=count+1\n",
        "  return (len(df)/count)"
      ],
      "execution_count": null,
      "outputs": []
    },
    {
      "cell_type": "code",
      "metadata": {
        "id": "DSWDY2IdQY1c"
      },
      "source": [
        "def TF_IDF(df):\n",
        "  word=[]\n",
        "  ans=[]\n",
        "  for i in range(len(df)): \n",
        "    x=(df.iloc[i]).split()\n",
        "    word=word+x\n",
        "  word=list(set(word))\n",
        "  for i in range(len(df)): \n",
        "    x=[]\n",
        "    for w in word:\n",
        "      x.append(term_feq(w,i,df)*math.log(idf(w,df)))\n",
        "    ans.append(x)\n",
        "  return pd.DataFrame(ans,columns=word)"
      ],
      "execution_count": null,
      "outputs": []
    },
    {
      "cell_type": "markdown",
      "metadata": {
        "id": "P2BdefTnZyX8"
      },
      "source": [
        "MAKING TF-IDF FOR FIRST 100 comments "
      ]
    },
    {
      "cell_type": "code",
      "metadata": {
        "id": "i_KiUiIINGts"
      },
      "source": [
        "tf_idf=TF_IDF(comment.head(100))"
      ],
      "execution_count": null,
      "outputs": []
    },
    {
      "cell_type": "code",
      "metadata": {
        "id": "566Pv1J1NMno"
      },
      "source": [
        "tf_idf.head()"
      ],
      "execution_count": null,
      "outputs": []
    },
    {
      "cell_type": "markdown",
      "metadata": {
        "id": "msdllj5Yizzg"
      },
      "source": [
        "# Removal of frequent words"
      ]
    },
    {
      "cell_type": "code",
      "metadata": {
        "id": "g-xcmJB5i3vV"
      },
      "source": [
        "from collections import Counter\n",
        "cnt=Counter()\n",
        "freq=Counter()\n",
        "for text in comment.values:\n",
        "  for word in text.split():\n",
        "    cnt[word]+=1\n",
        "\n",
        "freq=cnt.most_common(30) \n",
        "freq_words=[]\n",
        "for i in freq:\n",
        "  freq_words.append(i[0])"
      ],
      "execution_count": null,
      "outputs": []
    },
    {
      "cell_type": "code",
      "metadata": {
        "id": "FqSPRwIIi7VH"
      },
      "source": [
        "def remove_freq(x):\n",
        "  y=x.split()\n",
        "  for i in y:\n",
        "    if i in freq_words:\n",
        "      y.remove(i)\n",
        "  return ' '.join(y) "
      ],
      "execution_count": null,
      "outputs": []
    },
    {
      "cell_type": "code",
      "metadata": {
        "id": "RxWFlXzLjBYs"
      },
      "source": [
        "comment=comment.apply(lambda x: remove_freq(x))"
      ],
      "execution_count": null,
      "outputs": []
    },
    {
      "cell_type": "code",
      "metadata": {
        "id": "sEEGCjwZjFDZ"
      },
      "source": [
        "comment.head()"
      ],
      "execution_count": null,
      "outputs": []
    },
    {
      "cell_type": "markdown",
      "metadata": {
        "id": "lVyUXBWzWeuC"
      },
      "source": [
        "# POS Tagging\n"
      ]
    },
    {
      "cell_type": "code",
      "metadata": {
        "id": "gWPX7GoicX37"
      },
      "source": [
        "nltk.download('averaged_perceptron_tagger')"
      ],
      "execution_count": null,
      "outputs": []
    },
    {
      "cell_type": "code",
      "metadata": {
        "id": "Sj4NAbutWlgD"
      },
      "source": [
        "def pos(x):\n",
        "  words=word_tokenize(x)\n",
        "  ans=[]\n",
        "  for word in words:\n",
        "    ans.append((nltk.pos_tag([word])))\n",
        "  print(ans)\n"
      ],
      "execution_count": null,
      "outputs": []
    },
    {
      "cell_type": "code",
      "metadata": {
        "id": "zNiwUU5Ge23X"
      },
      "source": [
        "(comment.head()).apply(pos)"
      ],
      "execution_count": null,
      "outputs": []
    }
  ]
}